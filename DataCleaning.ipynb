{
 "cells": [
  {
   "cell_type": "code",
   "execution_count": 1,
   "id": "ca7a59b0",
   "metadata": {},
   "outputs": [],
   "source": [
    "import pandas as pd"
   ]
  },
  {
   "cell_type": "code",
   "execution_count": 2,
   "id": "e9a4be4d",
   "metadata": {},
   "outputs": [],
   "source": [
    "df = pd.read_csv('Rawdata.csv')"
   ]
  },
  {
   "cell_type": "code",
   "execution_count": 3,
   "id": "6bac54a2",
   "metadata": {},
   "outputs": [],
   "source": [
    "df.drop('Unnamed: 0',axis='columns', inplace=True)"
   ]
  },
  {
   "cell_type": "code",
   "execution_count": 4,
   "id": "c7b30877",
   "metadata": {},
   "outputs": [
    {
     "data": {
      "text/html": [
       "<div>\n",
       "<style scoped>\n",
       "    .dataframe tbody tr th:only-of-type {\n",
       "        vertical-align: middle;\n",
       "    }\n",
       "\n",
       "    .dataframe tbody tr th {\n",
       "        vertical-align: top;\n",
       "    }\n",
       "\n",
       "    .dataframe thead th {\n",
       "        text-align: right;\n",
       "    }\n",
       "</style>\n",
       "<table border=\"1\" class=\"dataframe\">\n",
       "  <thead>\n",
       "    <tr style=\"text-align: right;\">\n",
       "      <th></th>\n",
       "      <th>Job Title</th>\n",
       "      <th>Salary Estimate</th>\n",
       "      <th>Job Description</th>\n",
       "      <th>Rating</th>\n",
       "      <th>Company Name</th>\n",
       "      <th>Location</th>\n",
       "      <th>Headquarters</th>\n",
       "      <th>Size</th>\n",
       "      <th>Founded</th>\n",
       "      <th>Type of ownership</th>\n",
       "      <th>Industry</th>\n",
       "      <th>Sector</th>\n",
       "      <th>Revenue</th>\n",
       "      <th>Competitors</th>\n",
       "    </tr>\n",
       "  </thead>\n",
       "  <tbody>\n",
       "    <tr>\n",
       "      <th>0</th>\n",
       "      <td>Data Scientist</td>\n",
       "      <td>$53K-$91K (Glassdoor est.)</td>\n",
       "      <td>Data Scientist\\nLocation: Albuquerque, NM\\nEdu...</td>\n",
       "      <td>3.8</td>\n",
       "      <td>Tecolote Research\\n3.8</td>\n",
       "      <td>Albuquerque, NM</td>\n",
       "      <td>Goleta, CA</td>\n",
       "      <td>501 to 1000 employees</td>\n",
       "      <td>1973</td>\n",
       "      <td>Company - Private</td>\n",
       "      <td>Aerospace &amp; Defense</td>\n",
       "      <td>Aerospace &amp; Defense</td>\n",
       "      <td>$50 to $100 million (USD)</td>\n",
       "      <td>-1</td>\n",
       "    </tr>\n",
       "    <tr>\n",
       "      <th>1</th>\n",
       "      <td>Healthcare Data Scientist</td>\n",
       "      <td>$63K-$112K (Glassdoor est.)</td>\n",
       "      <td>What You Will Do:\\n\\nI. General Summary\\n\\nThe...</td>\n",
       "      <td>3.4</td>\n",
       "      <td>University of Maryland Medical System\\n3.4</td>\n",
       "      <td>Linthicum, MD</td>\n",
       "      <td>Baltimore, MD</td>\n",
       "      <td>10000+ employees</td>\n",
       "      <td>1984</td>\n",
       "      <td>Other Organization</td>\n",
       "      <td>Health Care Services &amp; Hospitals</td>\n",
       "      <td>Health Care</td>\n",
       "      <td>$2 to $5 billion (USD)</td>\n",
       "      <td>-1</td>\n",
       "    </tr>\n",
       "    <tr>\n",
       "      <th>2</th>\n",
       "      <td>Data Scientist</td>\n",
       "      <td>$80K-$90K (Glassdoor est.)</td>\n",
       "      <td>KnowBe4, Inc. is a high growth information sec...</td>\n",
       "      <td>4.8</td>\n",
       "      <td>KnowBe4\\n4.8</td>\n",
       "      <td>Clearwater, FL</td>\n",
       "      <td>Clearwater, FL</td>\n",
       "      <td>501 to 1000 employees</td>\n",
       "      <td>2010</td>\n",
       "      <td>Company - Private</td>\n",
       "      <td>Security Services</td>\n",
       "      <td>Business Services</td>\n",
       "      <td>$100 to $500 million (USD)</td>\n",
       "      <td>-1</td>\n",
       "    </tr>\n",
       "    <tr>\n",
       "      <th>3</th>\n",
       "      <td>Data Scientist</td>\n",
       "      <td>$56K-$97K (Glassdoor est.)</td>\n",
       "      <td>*Organization and Job ID**\\nJob ID: 310709\\n\\n...</td>\n",
       "      <td>3.8</td>\n",
       "      <td>PNNL\\n3.8</td>\n",
       "      <td>Richland, WA</td>\n",
       "      <td>Richland, WA</td>\n",
       "      <td>1001 to 5000 employees</td>\n",
       "      <td>1965</td>\n",
       "      <td>Government</td>\n",
       "      <td>Energy</td>\n",
       "      <td>Oil, Gas, Energy &amp; Utilities</td>\n",
       "      <td>$500 million to $1 billion (USD)</td>\n",
       "      <td>Oak Ridge National Laboratory, National Renewa...</td>\n",
       "    </tr>\n",
       "    <tr>\n",
       "      <th>4</th>\n",
       "      <td>Data Scientist</td>\n",
       "      <td>$86K-$143K (Glassdoor est.)</td>\n",
       "      <td>Data Scientist\\nAffinity Solutions / Marketing...</td>\n",
       "      <td>2.9</td>\n",
       "      <td>Affinity Solutions\\n2.9</td>\n",
       "      <td>New York, NY</td>\n",
       "      <td>New York, NY</td>\n",
       "      <td>51 to 200 employees</td>\n",
       "      <td>1998</td>\n",
       "      <td>Company - Private</td>\n",
       "      <td>Advertising &amp; Marketing</td>\n",
       "      <td>Business Services</td>\n",
       "      <td>Unknown / Non-Applicable</td>\n",
       "      <td>Commerce Signals, Cardlytics, Yodlee</td>\n",
       "    </tr>\n",
       "  </tbody>\n",
       "</table>\n",
       "</div>"
      ],
      "text/plain": [
       "                   Job Title              Salary Estimate  \\\n",
       "0             Data Scientist   $53K-$91K (Glassdoor est.)   \n",
       "1  Healthcare Data Scientist  $63K-$112K (Glassdoor est.)   \n",
       "2             Data Scientist   $80K-$90K (Glassdoor est.)   \n",
       "3             Data Scientist   $56K-$97K (Glassdoor est.)   \n",
       "4             Data Scientist  $86K-$143K (Glassdoor est.)   \n",
       "\n",
       "                                     Job Description  Rating  \\\n",
       "0  Data Scientist\\nLocation: Albuquerque, NM\\nEdu...     3.8   \n",
       "1  What You Will Do:\\n\\nI. General Summary\\n\\nThe...     3.4   \n",
       "2  KnowBe4, Inc. is a high growth information sec...     4.8   \n",
       "3  *Organization and Job ID**\\nJob ID: 310709\\n\\n...     3.8   \n",
       "4  Data Scientist\\nAffinity Solutions / Marketing...     2.9   \n",
       "\n",
       "                                 Company Name         Location  \\\n",
       "0                      Tecolote Research\\n3.8  Albuquerque, NM   \n",
       "1  University of Maryland Medical System\\n3.4    Linthicum, MD   \n",
       "2                                KnowBe4\\n4.8   Clearwater, FL   \n",
       "3                                   PNNL\\n3.8     Richland, WA   \n",
       "4                     Affinity Solutions\\n2.9     New York, NY   \n",
       "\n",
       "     Headquarters                    Size  Founded   Type of ownership  \\\n",
       "0      Goleta, CA   501 to 1000 employees     1973   Company - Private   \n",
       "1   Baltimore, MD        10000+ employees     1984  Other Organization   \n",
       "2  Clearwater, FL   501 to 1000 employees     2010   Company - Private   \n",
       "3    Richland, WA  1001 to 5000 employees     1965          Government   \n",
       "4    New York, NY     51 to 200 employees     1998   Company - Private   \n",
       "\n",
       "                           Industry                        Sector  \\\n",
       "0               Aerospace & Defense           Aerospace & Defense   \n",
       "1  Health Care Services & Hospitals                   Health Care   \n",
       "2                 Security Services             Business Services   \n",
       "3                            Energy  Oil, Gas, Energy & Utilities   \n",
       "4           Advertising & Marketing             Business Services   \n",
       "\n",
       "                            Revenue  \\\n",
       "0         $50 to $100 million (USD)   \n",
       "1            $2 to $5 billion (USD)   \n",
       "2        $100 to $500 million (USD)   \n",
       "3  $500 million to $1 billion (USD)   \n",
       "4          Unknown / Non-Applicable   \n",
       "\n",
       "                                         Competitors  \n",
       "0                                                 -1  \n",
       "1                                                 -1  \n",
       "2                                                 -1  \n",
       "3  Oak Ridge National Laboratory, National Renewa...  \n",
       "4               Commerce Signals, Cardlytics, Yodlee  "
      ]
     },
     "execution_count": 4,
     "metadata": {},
     "output_type": "execute_result"
    }
   ],
   "source": [
    "df.head()"
   ]
  },
  {
   "cell_type": "code",
   "execution_count": 5,
   "id": "094e0ed8",
   "metadata": {},
   "outputs": [
    {
     "name": "stderr",
     "output_type": "stream",
     "text": [
      "'df.info' is not recognized as an internal or external command,\n",
      "operable program or batch file.\n"
     ]
    }
   ],
   "source": [
    "!df.info()"
   ]
  },
  {
   "cell_type": "code",
   "execution_count": 6,
   "id": "39dea8fa",
   "metadata": {},
   "outputs": [],
   "source": [
    "df = df[df['Salary Estimate'] != '-1' ]"
   ]
  },
  {
   "cell_type": "code",
   "execution_count": 7,
   "id": "9d0e70b1",
   "metadata": {},
   "outputs": [],
   "source": [
    "#salary parsing\n",
    "### The data consists of hourly salary and employee_provided \n",
    "### So will be making two more columns"
   ]
  },
  {
   "cell_type": "code",
   "execution_count": 8,
   "id": "279948b6",
   "metadata": {},
   "outputs": [],
   "source": [
    "df[\"Salary Estimate\"] = df[\"Salary Estimate\"].apply(lambda x: x.split('(')[0])"
   ]
  },
  {
   "cell_type": "code",
   "execution_count": 9,
   "id": "552b2dfa",
   "metadata": {},
   "outputs": [
    {
     "name": "stdout",
     "output_type": "stream",
     "text": [
      "Index(['Job Title', 'Salary Estimate', 'Job Description', 'Rating',\n",
      "       'Company Name', 'Location', 'Headquarters', 'Size', 'Founded',\n",
      "       'Type of ownership', 'Industry', 'Sector', 'Revenue', 'Competitors'],\n",
      "      dtype='object')\n"
     ]
    }
   ],
   "source": [
    "print(df.columns)"
   ]
  },
  {
   "cell_type": "code",
   "execution_count": 10,
   "id": "5ce86a28",
   "metadata": {},
   "outputs": [],
   "source": [
    "df[\"Salary Estimate\"] = df[\"Salary Estimate\"].apply(lambda x: x.replace('K','').replace(\"$\",''))"
   ]
  },
  {
   "cell_type": "code",
   "execution_count": 11,
   "id": "a414750e",
   "metadata": {},
   "outputs": [],
   "source": [
    "df['hourly'] =df[\"Salary Estimate\"].apply(lambda x: 1 if 'per hour' in x.lower() else 0)\n",
    "df['employee_provided'] =df[\"Salary Estimate\"].apply(lambda x: 1 if 'employee provided salary:' in x.lower() else 0)"
   ]
  },
  {
   "cell_type": "code",
   "execution_count": 12,
   "id": "9720d61e",
   "metadata": {},
   "outputs": [],
   "source": [
    "df['Salary Estimate'] = df['Salary Estimate'].apply(\n",
    "  lambda x : x.replace('Employee Provided Salary','')\n",
    "                .replace(':', '')\n",
    "                .replace('Per Hour', '')\n",
    ")"
   ]
  },
  {
   "cell_type": "code",
   "execution_count": 13,
   "id": "bb1f2167",
   "metadata": {},
   "outputs": [],
   "source": [
    "df['Salary Estimate']=df['Salary Estimate'].apply(lambda x : x.replace('Employer Provided Salary','').replace(':','').replace('Per Hour',''))"
   ]
  },
  {
   "cell_type": "code",
   "execution_count": 14,
   "id": "07666b6b",
   "metadata": {},
   "outputs": [
    {
     "name": "stdout",
     "output_type": "stream",
     "text": [
      "Index(['Job Title', 'Salary Estimate', 'Job Description', 'Rating',\n",
      "       'Company Name', 'Location', 'Headquarters', 'Size', 'Founded',\n",
      "       'Type of ownership', 'Industry', 'Sector', 'Revenue', 'Competitors',\n",
      "       'hourly', 'employee_provided'],\n",
      "      dtype='object')\n"
     ]
    }
   ],
   "source": [
    "print(df.columns)"
   ]
  },
  {
   "cell_type": "code",
   "execution_count": 15,
   "id": "e3aabfa7",
   "metadata": {},
   "outputs": [
    {
     "name": "stdout",
     "output_type": "stream",
     "text": [
      "Index(['Job Title', 'Salary Estimate', 'Job Description', 'Rating',\n",
      "       'Company Name', 'Location', 'Headquarters', 'Size', 'Founded',\n",
      "       'Type of ownership', 'Industry', 'Sector', 'Revenue', 'Competitors',\n",
      "       'hourly', 'employee_provided'],\n",
      "      dtype='object')\n"
     ]
    }
   ],
   "source": [
    "df.columns = df.columns.str.strip()\n",
    "print(df.columns)"
   ]
  },
  {
   "cell_type": "code",
   "execution_count": 16,
   "id": "3911d31b",
   "metadata": {},
   "outputs": [],
   "source": [
    "#Min Salary and Max Salary seperation\n",
    "df['min_salary'] = df['Salary Estimate'].apply(lambda x: x.split('-')[0]).astype(int)\n",
    "df['max_salary'] = df['Salary Estimate'].apply(lambda x: x.split('-')[1]).astype(int)"
   ]
  },
  {
   "cell_type": "code",
   "execution_count": 17,
   "id": "017c7edb",
   "metadata": {},
   "outputs": [],
   "source": [
    "# Now extract min and max\n",
    "df['avg_salary'] = (df.min_salary+df.max_salary)/2"
   ]
  },
  {
   "cell_type": "markdown",
   "id": "3ebecd66",
   "metadata": {},
   "source": [
    "### Some salary values are hourly which can be seen in hourly column"
   ]
  },
  {
   "cell_type": "code",
   "execution_count": 18,
   "id": "1e079dda",
   "metadata": {},
   "outputs": [],
   "source": [
    "#**Company name**"
   ]
  },
  {
   "cell_type": "code",
   "execution_count": 19,
   "id": "4cc71b18",
   "metadata": {},
   "outputs": [],
   "source": [
    "df['Company Name']=df[\"Company Name\"].apply(lambda x: x.split('\\n'))"
   ]
  },
  {
   "cell_type": "markdown",
   "id": "a0211e46",
   "metadata": {},
   "source": [
    "state of the job"
   ]
  },
  {
   "cell_type": "code",
   "execution_count": 20,
   "id": "f8ca46c6",
   "metadata": {},
   "outputs": [],
   "source": [
    "df['job_state']= df['Location'].apply(lambda x : x.split(',')[1])"
   ]
  },
  {
   "cell_type": "markdown",
   "id": "433a1c8d",
   "metadata": {},
   "source": [
    "check if the job is in same location where the headquartera is located"
   ]
  },
  {
   "cell_type": "code",
   "execution_count": 21,
   "id": "b0465732",
   "metadata": {},
   "outputs": [],
   "source": [
    "df['same_location']=df.apply(lambda x : 1 if x.Location == x.Headquarters else 0 , axis = 1) "
   ]
  },
  {
   "cell_type": "markdown",
   "id": "d574d038",
   "metadata": {},
   "source": [
    "Age of the Company"
   ]
  },
  {
   "cell_type": "code",
   "execution_count": 22,
   "id": "1ac47af4",
   "metadata": {},
   "outputs": [],
   "source": [
    "df['age']=df['Founded'].apply(lambda x : x if x<1 else 2022-x) "
   ]
  },
  {
   "cell_type": "markdown",
   "id": "fe3b0cb4",
   "metadata": {},
   "source": [
    "Parsing of job description"
   ]
  },
  {
   "cell_type": "code",
   "execution_count": 23,
   "id": "e3c08718",
   "metadata": {},
   "outputs": [
    {
     "data": {
      "text/plain": [
       "'Data Scientist\\nLocation: Albuquerque, NM\\nEducation Required: Bachelor’s degree required, preferably in math, engineering, business, or the sciences.\\nSkills Required:\\nBachelor’s Degree in relevant field, e.g., math, data analysis, database, computer science, Artificial Intelligence (AI); three years’ experience credit for Master’s degree; five years’ experience credit for a Ph.D\\nApplicant should be proficient in the use of Power BI, Tableau, Python, MATLAB, Microsoft Word, PowerPoint, Excel, and working knowledge of MS Access, LMS, SAS, data visualization tools, and have a strong algorithmic aptitude\\nExcellent verbal and written communication skills, and quantitative analytical skills are required\\nApplicant must be able to work in a team environment\\nU.S. citizenship and ability to obtain a DoD Secret Clearance required\\nResponsibilities: The applicant will be responsible for formulating analytical solutions to complex data problems; creating data analytic models to improve data metrics; analyzing customer behavior and trends; delivering insights to stakeholders, as well as designing and crafting reports, dashboards, models, and algorithms to make data insights actionable; selecting features, building and optimizing classifiers using machine learning techniques; data mining using state-of-the-art methods, extending organization’s data with third party sources of information when needed; enhancing data collection procedures to include information that is relevant for building analytic systems; processing, cleansing, and verifying the integrity of data used for analysis; doing ad-hoc analysis and presenting results in a clear manner; and creating automated anomaly detection systems and constant tracking of its performance.\\nBenefits:\\nWe offer competitive salaries commensurate with education and experience. We have an excellent benefits package that includes:\\nComprehensive health, dental, life, long and short term disability insurance\\n100% Company funded Retirement Plans\\nGenerous vacation, holiday and sick pay plans\\nTuition assistance\\n\\nBenefits are provided to employees regularly working a minimum of 30 hours per week.\\n\\nTecolote Research is a private, employee-owned corporation where people are our primary resource. Our investments in technology and training give our employees the tools to ensure our clients are provided the solutions they need, and our very high employee retention rate and stable workforce is an added value to our customers. Apply now to connect with a company that invests in you.'"
      ]
     },
     "execution_count": 23,
     "metadata": {},
     "output_type": "execute_result"
    }
   ],
   "source": [
    "df['Job Description'][0]"
   ]
  },
  {
   "cell_type": "code",
   "execution_count": 24,
   "id": "75604262",
   "metadata": {},
   "outputs": [
    {
     "data": {
      "text/plain": [
       "python\n",
       "1    392\n",
       "0    350\n",
       "Name: count, dtype: int64"
      ]
     },
     "execution_count": 24,
     "metadata": {},
     "output_type": "execute_result"
    }
   ],
   "source": [
    "#python\n",
    "df['python']=df['Job Description'].apply(lambda x: 1 if 'python' in x.lower() else 0)\n",
    "df['python'].value_counts()"
   ]
  },
  {
   "cell_type": "code",
   "execution_count": 25,
   "id": "2877ce51",
   "metadata": {},
   "outputs": [
    {
     "data": {
      "text/plain": [
       "R\n",
       "0    742\n",
       "Name: count, dtype: int64"
      ]
     },
     "execution_count": 25,
     "metadata": {},
     "output_type": "execute_result"
    }
   ],
   "source": [
    "df['R']=df['Job Description'].apply(lambda x: 1 if 'R' in x.lower() else 0)\n",
    "df.R.value_counts()"
   ]
  },
  {
   "cell_type": "code",
   "execution_count": 26,
   "id": "7739790e",
   "metadata": {},
   "outputs": [
    {
     "data": {
      "text/plain": [
       "R\n",
       "0    742\n",
       "Name: count, dtype: int64"
      ]
     },
     "execution_count": 26,
     "metadata": {},
     "output_type": "execute_result"
    }
   ],
   "source": [
    "df['AWS']=df['Job Description'].apply(lambda x: 1 if 'AWS' in x.lower() else 0)\n",
    "df.R.value_counts()"
   ]
  },
  {
   "cell_type": "code",
   "execution_count": 27,
   "id": "b5ac47ee",
   "metadata": {},
   "outputs": [
    {
     "data": {
      "text/plain": [
       "R\n",
       "0    742\n",
       "Name: count, dtype: int64"
      ]
     },
     "execution_count": 27,
     "metadata": {},
     "output_type": "execute_result"
    }
   ],
   "source": [
    "df['Excel']=df['Job Description'].apply(lambda x: 1 if 'Excel' in x.lower() else 0)\n",
    "df.R.value_counts()"
   ]
  },
  {
   "cell_type": "markdown",
   "id": "16394f2d",
   "metadata": {},
   "source": [
    "#simplifying Job Titles"
   ]
  },
  {
   "cell_type": "code",
   "execution_count": 28,
   "id": "4e62dc17",
   "metadata": {},
   "outputs": [
    {
     "data": {
      "text/plain": [
       "'Healthcare Data Scientist'"
      ]
     },
     "execution_count": 28,
     "metadata": {},
     "output_type": "execute_result"
    }
   ],
   "source": [
    "df['Job Title'][1]"
   ]
  },
  {
   "cell_type": "code",
   "execution_count": 29,
   "id": "70a2f269",
   "metadata": {},
   "outputs": [],
   "source": [
    "def title_simplifier(title):\n",
    "    if 'data scientist' in title.lower():\n",
    "        return 'data scientist'\n",
    "    elif 'data engineer' in title.lower():\n",
    "        return 'data engineer'\n",
    "    elif 'analyst' in title.lower():\n",
    "        return 'analyst'\n",
    "    elif 'machine learning' in title.lower():\n",
    "        return 'mle'\n",
    "    elif 'manager' in title.lower():\n",
    "        return 'manager'\n",
    "    elif 'director' in title.lower():\n",
    "        return 'director'\n",
    "    else:\n",
    "        return 'na'"
   ]
  },
  {
   "cell_type": "code",
   "execution_count": 30,
   "id": "734fc545",
   "metadata": {},
   "outputs": [],
   "source": [
    "df['Job_simp']=df['Job Title'].apply(title_simplifier)"
   ]
  },
  {
   "cell_type": "code",
   "execution_count": 31,
   "id": "583125a7",
   "metadata": {},
   "outputs": [
    {
     "data": {
      "text/plain": [
       "Job_simp\n",
       "data scientist    279\n",
       "na                184\n",
       "data engineer     119\n",
       "analyst           102\n",
       "manager            22\n",
       "mle                22\n",
       "director           14\n",
       "Name: count, dtype: int64"
      ]
     },
     "execution_count": 31,
     "metadata": {},
     "output_type": "execute_result"
    }
   ],
   "source": [
    "df['Job_simp'].value_counts()"
   ]
  },
  {
   "cell_type": "markdown",
   "id": "12fcbf29",
   "metadata": {},
   "source": [
    "Check for the positions(Senior Or Junior etc)"
   ]
  },
  {
   "cell_type": "code",
   "execution_count": 32,
   "id": "d0d92a9b",
   "metadata": {},
   "outputs": [],
   "source": [
    "def seniority(title):\n",
    "    if 'sr' in title.lower() or 'senior' in title.lower() or 'lead' in title.lower():\n",
    "        return 'senior'\n",
    "    if 'sr' in title.lower() or 'senior' in title.lower():\n",
    "            return 'jr'\n",
    "    else:\n",
    "        return 'na'"
   ]
  },
  {
   "cell_type": "code",
   "execution_count": 33,
   "id": "c253acc5",
   "metadata": {},
   "outputs": [
    {
     "data": {
      "text/plain": [
       "seniority\n",
       "na        547\n",
       "senior    195\n",
       "Name: count, dtype: int64"
      ]
     },
     "execution_count": 33,
     "metadata": {},
     "output_type": "execute_result"
    }
   ],
   "source": [
    "df['seniority'] = df['Job Title'].apply(seniority)\n",
    "df.seniority.value_counts()"
   ]
  },
  {
   "cell_type": "code",
   "execution_count": 34,
   "id": "6267d66d",
   "metadata": {},
   "outputs": [
    {
     "data": {
      "text/plain": [
       "job_state\n",
       "CA             151\n",
       "MA             103\n",
       "NY              72\n",
       "VA              41\n",
       "IL              40\n",
       "MD              35\n",
       "PA              33\n",
       "TX              28\n",
       "WA              21\n",
       "NC              21\n",
       "NJ              17\n",
       "FL              16\n",
       "OH              14\n",
       "TN              13\n",
       "DC              11\n",
       "CO              11\n",
       "IN              10\n",
       "WI              10\n",
       "UT              10\n",
       "AZ               9\n",
       "MO               9\n",
       "AL               8\n",
       "DE               6\n",
       "KY               6\n",
       "MI               6\n",
       "GA               6\n",
       "IA               5\n",
       "CT               5\n",
       "NE               4\n",
       "OR               4\n",
       "LA               4\n",
       "NM               3\n",
       "KS               3\n",
       "MN               2\n",
       "ID               2\n",
       "Los Angeles      1\n",
       "RI               1\n",
       "SC               1\n",
       "Name: count, dtype: int64"
      ]
     },
     "execution_count": 34,
     "metadata": {},
     "output_type": "execute_result"
    }
   ],
   "source": [
    "df['job_state'].value_counts()"
   ]
  },
  {
   "cell_type": "code",
   "execution_count": 35,
   "id": "3bab22bf",
   "metadata": {},
   "outputs": [
    {
     "data": {
      "text/plain": [
       "0                                                   -1\n",
       "1                                                   -1\n",
       "2                                                   -1\n",
       "3    Oak Ridge National Laboratory, National Renewa...\n",
       "4                 Commerce Signals, Cardlytics, Yodlee\n",
       "Name: Competitors, dtype: object"
      ]
     },
     "execution_count": 35,
     "metadata": {},
     "output_type": "execute_result"
    }
   ],
   "source": [
    "df['Competitors'].head()"
   ]
  },
  {
   "cell_type": "code",
   "execution_count": 36,
   "id": "007c557a",
   "metadata": {},
   "outputs": [],
   "source": [
    "# Competator count\n",
    "df['num_comp'] =df['Competitors'].apply(lambda x : len(',')if x!= -1 else 0)"
   ]
  },
  {
   "cell_type": "code",
   "execution_count": 37,
   "id": "eeb5febb",
   "metadata": {},
   "outputs": [
    {
     "data": {
      "text/plain": [
       "0      2536\n",
       "1      4783\n",
       "2      3461\n",
       "3      3883\n",
       "4      2728\n",
       "       ... \n",
       "950    6162\n",
       "951    6130\n",
       "952    3078\n",
       "953    1642\n",
       "955    3673\n",
       "Name: desc_len, Length: 742, dtype: int64"
      ]
     },
     "execution_count": 37,
     "metadata": {},
     "output_type": "execute_result"
    }
   ],
   "source": [
    "#  Job description length \n",
    "df['desc_len'] = df['Job Description'].apply(lambda x: len(x))\n",
    "df['desc_len']"
   ]
  },
  {
   "cell_type": "code",
   "execution_count": 38,
   "id": "fb5f1023",
   "metadata": {},
   "outputs": [],
   "source": [
    "#hourly wage to annual\n",
    "\n",
    "df['min_salary'] = df.apply(lambda x: x.min_salary*2 if x.hourly ==1 else x.min_salary, axis =1)\n",
    "df['max_salary'] = df.apply(lambda x: x.max_salary*2 if x.hourly ==1 else x.max_salary, axis =1)"
   ]
  },
  {
   "cell_type": "code",
   "execution_count": 39,
   "id": "61f4659c",
   "metadata": {},
   "outputs": [
    {
     "data": {
      "text/html": [
       "<div>\n",
       "<style scoped>\n",
       "    .dataframe tbody tr th:only-of-type {\n",
       "        vertical-align: middle;\n",
       "    }\n",
       "\n",
       "    .dataframe tbody tr th {\n",
       "        vertical-align: top;\n",
       "    }\n",
       "\n",
       "    .dataframe thead th {\n",
       "        text-align: right;\n",
       "    }\n",
       "</style>\n",
       "<table border=\"1\" class=\"dataframe\">\n",
       "  <thead>\n",
       "    <tr style=\"text-align: right;\">\n",
       "      <th></th>\n",
       "      <th>hourly</th>\n",
       "      <th>min_salary</th>\n",
       "      <th>max_salary</th>\n",
       "    </tr>\n",
       "  </thead>\n",
       "  <tbody>\n",
       "    <tr>\n",
       "      <th>197</th>\n",
       "      <td>1</td>\n",
       "      <td>34</td>\n",
       "      <td>48</td>\n",
       "    </tr>\n",
       "    <tr>\n",
       "      <th>209</th>\n",
       "      <td>1</td>\n",
       "      <td>42</td>\n",
       "      <td>68</td>\n",
       "    </tr>\n",
       "    <tr>\n",
       "      <th>240</th>\n",
       "      <td>1</td>\n",
       "      <td>36</td>\n",
       "      <td>50</td>\n",
       "    </tr>\n",
       "    <tr>\n",
       "      <th>247</th>\n",
       "      <td>1</td>\n",
       "      <td>42</td>\n",
       "      <td>68</td>\n",
       "    </tr>\n",
       "    <tr>\n",
       "      <th>257</th>\n",
       "      <td>1</td>\n",
       "      <td>30</td>\n",
       "      <td>50</td>\n",
       "    </tr>\n",
       "    <tr>\n",
       "      <th>307</th>\n",
       "      <td>1</td>\n",
       "      <td>34</td>\n",
       "      <td>48</td>\n",
       "    </tr>\n",
       "    <tr>\n",
       "      <th>337</th>\n",
       "      <td>1</td>\n",
       "      <td>42</td>\n",
       "      <td>68</td>\n",
       "    </tr>\n",
       "    <tr>\n",
       "      <th>427</th>\n",
       "      <td>1</td>\n",
       "      <td>36</td>\n",
       "      <td>50</td>\n",
       "    </tr>\n",
       "    <tr>\n",
       "      <th>437</th>\n",
       "      <td>1</td>\n",
       "      <td>48</td>\n",
       "      <td>78</td>\n",
       "    </tr>\n",
       "    <tr>\n",
       "      <th>456</th>\n",
       "      <td>1</td>\n",
       "      <td>42</td>\n",
       "      <td>68</td>\n",
       "    </tr>\n",
       "    <tr>\n",
       "      <th>464</th>\n",
       "      <td>1</td>\n",
       "      <td>50</td>\n",
       "      <td>56</td>\n",
       "    </tr>\n",
       "    <tr>\n",
       "      <th>522</th>\n",
       "      <td>1</td>\n",
       "      <td>42</td>\n",
       "      <td>58</td>\n",
       "    </tr>\n",
       "    <tr>\n",
       "      <th>523</th>\n",
       "      <td>1</td>\n",
       "      <td>20</td>\n",
       "      <td>34</td>\n",
       "    </tr>\n",
       "    <tr>\n",
       "      <th>632</th>\n",
       "      <td>1</td>\n",
       "      <td>36</td>\n",
       "      <td>50</td>\n",
       "    </tr>\n",
       "    <tr>\n",
       "      <th>652</th>\n",
       "      <td>1</td>\n",
       "      <td>48</td>\n",
       "      <td>78</td>\n",
       "    </tr>\n",
       "    <tr>\n",
       "      <th>682</th>\n",
       "      <td>1</td>\n",
       "      <td>42</td>\n",
       "      <td>68</td>\n",
       "    </tr>\n",
       "    <tr>\n",
       "      <th>694</th>\n",
       "      <td>1</td>\n",
       "      <td>50</td>\n",
       "      <td>56</td>\n",
       "    </tr>\n",
       "    <tr>\n",
       "      <th>786</th>\n",
       "      <td>1</td>\n",
       "      <td>42</td>\n",
       "      <td>58</td>\n",
       "    </tr>\n",
       "    <tr>\n",
       "      <th>787</th>\n",
       "      <td>1</td>\n",
       "      <td>20</td>\n",
       "      <td>34</td>\n",
       "    </tr>\n",
       "    <tr>\n",
       "      <th>823</th>\n",
       "      <td>1</td>\n",
       "      <td>54</td>\n",
       "      <td>94</td>\n",
       "    </tr>\n",
       "    <tr>\n",
       "      <th>854</th>\n",
       "      <td>1</td>\n",
       "      <td>36</td>\n",
       "      <td>50</td>\n",
       "    </tr>\n",
       "    <tr>\n",
       "      <th>875</th>\n",
       "      <td>1</td>\n",
       "      <td>48</td>\n",
       "      <td>78</td>\n",
       "    </tr>\n",
       "    <tr>\n",
       "      <th>919</th>\n",
       "      <td>1</td>\n",
       "      <td>42</td>\n",
       "      <td>68</td>\n",
       "    </tr>\n",
       "    <tr>\n",
       "      <th>936</th>\n",
       "      <td>1</td>\n",
       "      <td>50</td>\n",
       "      <td>56</td>\n",
       "    </tr>\n",
       "  </tbody>\n",
       "</table>\n",
       "</div>"
      ],
      "text/plain": [
       "     hourly  min_salary  max_salary\n",
       "197       1          34          48\n",
       "209       1          42          68\n",
       "240       1          36          50\n",
       "247       1          42          68\n",
       "257       1          30          50\n",
       "307       1          34          48\n",
       "337       1          42          68\n",
       "427       1          36          50\n",
       "437       1          48          78\n",
       "456       1          42          68\n",
       "464       1          50          56\n",
       "522       1          42          58\n",
       "523       1          20          34\n",
       "632       1          36          50\n",
       "652       1          48          78\n",
       "682       1          42          68\n",
       "694       1          50          56\n",
       "786       1          42          58\n",
       "787       1          20          34\n",
       "823       1          54          94\n",
       "854       1          36          50\n",
       "875       1          48          78\n",
       "919       1          42          68\n",
       "936       1          50          56"
      ]
     },
     "execution_count": 39,
     "metadata": {},
     "output_type": "execute_result"
    }
   ],
   "source": [
    "df[df.hourly ==1][['hourly','min_salary','max_salary']]"
   ]
  },
  {
   "cell_type": "code",
   "execution_count": 40,
   "id": "9f26089a",
   "metadata": {},
   "outputs": [],
   "source": [
    "df.to_excel(\"cleaned_salary_data.xlsx\", index=False)"
   ]
  }
 ],
 "metadata": {
  "kernelspec": {
   "display_name": "Python 3",
   "language": "python",
   "name": "python3"
  },
  "language_info": {
   "codemirror_mode": {
    "name": "ipython",
    "version": 3
   },
   "file_extension": ".py",
   "mimetype": "text/x-python",
   "name": "python",
   "nbconvert_exporter": "python",
   "pygments_lexer": "ipython3",
   "version": "3.13.2"
  }
 },
 "nbformat": 4,
 "nbformat_minor": 5
}
